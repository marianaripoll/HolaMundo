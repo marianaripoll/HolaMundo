{
 "cells": [
  {
   "cell_type": "markdown",
   "id": "a3d5fdb6-5777-43fe-881f-8734ec4a6f93",
   "metadata": {},
   "source": [
    "# Estos son los cambios que hice desde mi máquina"
   ]
  },
  {
   "cell_type": "code",
   "execution_count": 4,
   "id": "10a1b2c7-be6e-43a0-9ae4-8142eba1d1c6",
   "metadata": {},
   "outputs": [
    {
     "data": {
      "text/plain": [
       "array([0.15727985, 0.50720782, 0.54608597, 0.7285912 , 0.30658474,\n",
       "       0.99013016, 0.07420707, 0.20056218, 0.66454576, 0.7651478 ])"
      ]
     },
     "execution_count": 4,
     "metadata": {},
     "output_type": "execute_result"
    }
   ],
   "source": [
    "import numpy as np\n",
    "\n",
    "np.random.rand(10)"
   ]
  },
  {
   "cell_type": "code",
   "execution_count": 5,
   "id": "b6807498-b2dc-452b-b7fb-88759b8a4fea",
   "metadata": {},
   "outputs": [
    {
     "data": {
      "text/plain": [
       "array([0, 1, 2, 3, 4, 5, 6, 7, 8, 9])"
      ]
     },
     "execution_count": 5,
     "metadata": {},
     "output_type": "execute_result"
    }
   ],
   "source": [
    "np.arange(0, 10)"
   ]
  }
 ],
 "metadata": {
  "kernelspec": {
   "display_name": "Python 3 (ipykernel)",
   "language": "python",
   "name": "python3"
  },
  "language_info": {
   "codemirror_mode": {
    "name": "ipython",
    "version": 3
   },
   "file_extension": ".py",
   "mimetype": "text/x-python",
   "name": "python",
   "nbconvert_exporter": "python",
   "pygments_lexer": "ipython3",
   "version": "3.11.3"
  }
 },
 "nbformat": 4,
 "nbformat_minor": 5
}
